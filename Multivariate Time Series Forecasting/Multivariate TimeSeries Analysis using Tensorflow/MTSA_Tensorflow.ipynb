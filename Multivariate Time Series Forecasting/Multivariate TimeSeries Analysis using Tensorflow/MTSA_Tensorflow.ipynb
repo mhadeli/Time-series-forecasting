{
 "cells": [
  {
   "cell_type": "markdown",
   "metadata": {},
   "source": [
    "# Introduction:\n",
    "\n",
    "Multivariate time series analysis is a statistical technique that analyses multiple time series data sets to identify patterns and relationships between them. This can be used to forecast future values of the time series, identify causal relationships between them, or simply gain a better understanding of how they interact.\n",
    "\n",
    "Multivariate time series analysis is often used in finance, economics, and other fields where it is important to understand how multiple variables are related to each other. For example, a financial analyst might use multivariate time series analysis to forecast the future price of a stock based on the past prices of other stocks, economic indicators, or news events."
   ]
  },
  {
   "cell_type": "code",
   "execution_count": 10,
   "metadata": {},
   "outputs": [],
   "source": [
    "import numpy as np\n",
    "import pandas as pd\n",
    "import matplotlib.pyplot as plt\n",
    "import seaborn as sns\n",
    "\n",
    "from tensorflow.keras.models import Sequential\n",
    "from tensorflow.keras.layers import Dropout, Dense, LSTM, GRU #can train using either GRU or LSTM\n",
    "\n",
    "from sklearn.preprocessing import StandardScaler"
   ]
  },
  {
   "cell_type": "code",
   "execution_count": 11,
   "metadata": {},
   "outputs": [
    {
     "data": {
      "text/html": [
       "<div>\n",
       "<style scoped>\n",
       "    .dataframe tbody tr th:only-of-type {\n",
       "        vertical-align: middle;\n",
       "    }\n",
       "\n",
       "    .dataframe tbody tr th {\n",
       "        vertical-align: top;\n",
       "    }\n",
       "\n",
       "    .dataframe thead th {\n",
       "        text-align: right;\n",
       "    }\n",
       "</style>\n",
       "<table border=\"1\" class=\"dataframe\">\n",
       "  <thead>\n",
       "    <tr style=\"text-align: right;\">\n",
       "      <th></th>\n",
       "      <th>Date</th>\n",
       "      <th>Open</th>\n",
       "      <th>High</th>\n",
       "      <th>Low</th>\n",
       "      <th>Close</th>\n",
       "      <th>Adj Close</th>\n",
       "      <th>Volume</th>\n",
       "    </tr>\n",
       "  </thead>\n",
       "  <tbody>\n",
       "    <tr>\n",
       "      <th>0</th>\n",
       "      <td>2018-05-21</td>\n",
       "      <td>143.211502</td>\n",
       "      <td>144.850449</td>\n",
       "      <td>142.828110</td>\n",
       "      <td>144.237030</td>\n",
       "      <td>128.132599</td>\n",
       "      <td>2553500</td>\n",
       "    </tr>\n",
       "    <tr>\n",
       "      <th>1</th>\n",
       "      <td>2018-05-22</td>\n",
       "      <td>144.840866</td>\n",
       "      <td>146.125183</td>\n",
       "      <td>144.246628</td>\n",
       "      <td>144.601242</td>\n",
       "      <td>128.456177</td>\n",
       "      <td>3493247</td>\n",
       "    </tr>\n",
       "    <tr>\n",
       "      <th>2</th>\n",
       "      <td>2018-05-23</td>\n",
       "      <td>143.767395</td>\n",
       "      <td>145.118805</td>\n",
       "      <td>143.585297</td>\n",
       "      <td>145.032547</td>\n",
       "      <td>128.839325</td>\n",
       "      <td>2952060</td>\n",
       "    </tr>\n",
       "    <tr>\n",
       "      <th>3</th>\n",
       "      <td>2018-05-24</td>\n",
       "      <td>145.137985</td>\n",
       "      <td>145.990997</td>\n",
       "      <td>143.575699</td>\n",
       "      <td>144.802521</td>\n",
       "      <td>128.634995</td>\n",
       "      <td>2753615</td>\n",
       "    </tr>\n",
       "    <tr>\n",
       "      <th>4</th>\n",
       "      <td>2018-05-25</td>\n",
       "      <td>144.543747</td>\n",
       "      <td>145.233826</td>\n",
       "      <td>143.575699</td>\n",
       "      <td>144.399979</td>\n",
       "      <td>128.277374</td>\n",
       "      <td>2018260</td>\n",
       "    </tr>\n",
       "  </tbody>\n",
       "</table>\n",
       "</div>"
      ],
      "text/plain": [
       "         Date        Open        High         Low       Close   Adj Close  \\\n",
       "0  2018-05-21  143.211502  144.850449  142.828110  144.237030  128.132599   \n",
       "1  2018-05-22  144.840866  146.125183  144.246628  144.601242  128.456177   \n",
       "2  2018-05-23  143.767395  145.118805  143.585297  145.032547  128.839325   \n",
       "3  2018-05-24  145.137985  145.990997  143.575699  144.802521  128.634995   \n",
       "4  2018-05-25  144.543747  145.233826  143.575699  144.399979  128.277374   \n",
       "\n",
       "    Volume  \n",
       "0  2553500  \n",
       "1  3493247  \n",
       "2  2952060  \n",
       "3  2753615  \n",
       "4  2018260  "
      ]
     },
     "execution_count": 11,
     "metadata": {},
     "output_type": "execute_result"
    }
   ],
   "source": [
    "df = pd.read_csv('HON.csv')\n",
    "df.head()"
   ]
  },
  {
   "cell_type": "code",
   "execution_count": 12,
   "metadata": {},
   "outputs": [
    {
     "name": "stdout",
     "output_type": "stream",
     "text": [
      "['Open', 'High', 'Low', 'Close', 'Adj Close']\n"
     ]
    }
   ],
   "source": [
    "# convert the Date column to DateTime from Object type\n",
    "train_set_dates = pd.to_datetime(df['Date'])\n",
    "train_set_dates.head()\n",
    "\n",
    "# extract the required features (in this we are omiting the volume from feature list)\n",
    "columns = list(df.columns[1:6])\n",
    "print(columns)\n",
    "\n",
    "df_train = df[columns].astype(float)\n",
    "df_train.head()\n",
    "\n",
    "# Normalize the data using the Standard scaler\n",
    "standard_scaler = StandardScaler()\n",
    "scalar = standard_scaler.fit(df_train)\n",
    "scaled_training_df = scalar.transform(df_train)"
   ]
  },
  {
   "cell_type": "code",
   "execution_count": 13,
   "metadata": {},
   "outputs": [
    {
     "name": "stdout",
     "output_type": "stream",
     "text": [
      "trainX shape: (1245, 14, 5)\n",
      "trainY shape: (1245, 1)\n"
     ]
    }
   ],
   "source": [
    "trainX = []\n",
    "trainY = []\n",
    "\n",
    "future_no_of_days = 1 # num of days to predict the future values\n",
    "past_no_of_days = 14 # number of days on which the prediction is computed\n",
    "\n",
    "for i in range(past_no_of_days, len(scaled_training_df) - future_no_of_days+1):\n",
    "    trainX.append(scaled_training_df[i - past_no_of_days:i, 0:df_train.shape[1]])\n",
    "    trainY.append(scaled_training_df[i + future_no_of_days - 1:i + future_no_of_days, 0])\n",
    "    \n",
    "trainX, trainY = np.array(trainX), np.array(trainY)\n",
    "\n",
    "print('trainX shape: {}'.format(trainX.shape))\n",
    "print('trainY shape: {}'.format(trainY.shape))"
   ]
  },
  {
   "cell_type": "code",
   "execution_count": 14,
   "metadata": {},
   "outputs": [
    {
     "name": "stdout",
     "output_type": "stream",
     "text": [
      "Model: \"sequential_1\"\n",
      "_________________________________________________________________\n",
      " Layer (type)                Output Shape              Param #   \n",
      "=================================================================\n",
      " gru_2 (GRU)                 (None, 14, 64)            13632     \n",
      "                                                                 \n",
      " gru_3 (GRU)                 (None, 32)                9408      \n",
      "                                                                 \n",
      " dropout_1 (Dropout)         (None, 32)                0         \n",
      "                                                                 \n",
      " dense_1 (Dense)             (None, 1)                 33        \n",
      "                                                                 \n",
      "=================================================================\n",
      "Total params: 23073 (90.13 KB)\n",
      "Trainable params: 23073 (90.13 KB)\n",
      "Non-trainable params: 0 (0.00 Byte)\n",
      "_________________________________________________________________\n"
     ]
    }
   ],
   "source": [
    "model = Sequential()\n",
    "model.add(GRU(64, activation='relu', input_shape=(trainX.shape[1], trainX.shape[2]), return_sequences=True))\n",
    "model.add(GRU(32, activation='relu', return_sequences=False))\n",
    "model.add(Dropout(0.2))\n",
    "model.add(Dense(trainY.shape[1]))\n",
    "model.compile(optimizer='adam', loss='mse')\n",
    "model.summary()"
   ]
  },
  {
   "cell_type": "code",
   "execution_count": 15,
   "metadata": {},
   "outputs": [
    {
     "name": "stdout",
     "output_type": "stream",
     "text": [
      "Epoch 1/100\n",
      "70/70 [==============================] - 1s 4ms/step - loss: 0.2303 - val_loss: 0.0148\n",
      "Epoch 2/100\n",
      "70/70 [==============================] - 0s 3ms/step - loss: 0.0574 - val_loss: 0.0090\n",
      "Epoch 3/100\n",
      "70/70 [==============================] - 0s 3ms/step - loss: 0.0440 - val_loss: 0.0069\n",
      "Epoch 4/100\n",
      "70/70 [==============================] - 0s 3ms/step - loss: 0.0403 - val_loss: 0.0075\n",
      "Epoch 5/100\n",
      "70/70 [==============================] - 0s 3ms/step - loss: 0.0362 - val_loss: 0.0046\n",
      "Epoch 6/100\n",
      "70/70 [==============================] - 0s 3ms/step - loss: 0.0361 - val_loss: 0.0042\n",
      "Epoch 7/100\n",
      "70/70 [==============================] - 0s 3ms/step - loss: 0.0361 - val_loss: 0.0046\n",
      "Epoch 8/100\n",
      "70/70 [==============================] - 0s 3ms/step - loss: 0.0349 - val_loss: 0.0055\n",
      "Epoch 9/100\n",
      "70/70 [==============================] - 0s 3ms/step - loss: 0.0345 - val_loss: 0.0051\n",
      "Epoch 10/100\n",
      "70/70 [==============================] - 0s 3ms/step - loss: 0.0320 - val_loss: 0.0084\n",
      "Epoch 11/100\n",
      "70/70 [==============================] - 0s 3ms/step - loss: 0.0320 - val_loss: 0.0034\n",
      "Epoch 12/100\n",
      "70/70 [==============================] - 0s 3ms/step - loss: 0.0314 - val_loss: 0.0060\n",
      "Epoch 13/100\n",
      "70/70 [==============================] - 0s 3ms/step - loss: 0.0318 - val_loss: 0.0042\n",
      "Epoch 14/100\n",
      "70/70 [==============================] - 0s 3ms/step - loss: 0.0329 - val_loss: 0.0087\n",
      "Epoch 15/100\n",
      "70/70 [==============================] - 0s 3ms/step - loss: 0.0357 - val_loss: 0.0037\n",
      "Epoch 16/100\n",
      "70/70 [==============================] - 0s 3ms/step - loss: 0.0332 - val_loss: 0.0130\n",
      "Epoch 17/100\n",
      "70/70 [==============================] - 0s 3ms/step - loss: 0.0346 - val_loss: 0.0033\n",
      "Epoch 18/100\n",
      "70/70 [==============================] - 0s 3ms/step - loss: 0.0345 - val_loss: 0.0045\n",
      "Epoch 19/100\n",
      "70/70 [==============================] - 0s 3ms/step - loss: 0.0324 - val_loss: 0.0039\n",
      "Epoch 20/100\n",
      "70/70 [==============================] - 0s 3ms/step - loss: 0.0302 - val_loss: 0.0033\n",
      "Epoch 21/100\n",
      "70/70 [==============================] - 0s 3ms/step - loss: 0.0293 - val_loss: 0.0033\n",
      "Epoch 22/100\n",
      "70/70 [==============================] - 0s 3ms/step - loss: 0.0318 - val_loss: 0.0035\n",
      "Epoch 23/100\n",
      "70/70 [==============================] - 0s 3ms/step - loss: 0.0302 - val_loss: 0.0100\n",
      "Epoch 24/100\n",
      "70/70 [==============================] - 0s 3ms/step - loss: 0.0341 - val_loss: 0.0048\n",
      "Epoch 25/100\n",
      "70/70 [==============================] - 0s 3ms/step - loss: 0.0307 - val_loss: 0.0035\n",
      "Epoch 26/100\n",
      "70/70 [==============================] - 0s 3ms/step - loss: 0.0329 - val_loss: 0.0039\n",
      "Epoch 27/100\n",
      "70/70 [==============================] - 0s 3ms/step - loss: 0.0304 - val_loss: 0.0031\n",
      "Epoch 28/100\n",
      "70/70 [==============================] - 0s 3ms/step - loss: 0.0317 - val_loss: 0.0039\n",
      "Epoch 29/100\n",
      "70/70 [==============================] - 0s 3ms/step - loss: 0.0339 - val_loss: 0.0061\n",
      "Epoch 30/100\n",
      "70/70 [==============================] - 0s 3ms/step - loss: 0.0322 - val_loss: 0.0034\n",
      "Epoch 31/100\n",
      "70/70 [==============================] - 0s 3ms/step - loss: 0.0323 - val_loss: 0.0032\n",
      "Epoch 32/100\n",
      "70/70 [==============================] - 0s 3ms/step - loss: 0.0324 - val_loss: 0.0043\n",
      "Epoch 33/100\n",
      "70/70 [==============================] - 0s 3ms/step - loss: 0.0337 - val_loss: 0.0118\n",
      "Epoch 34/100\n",
      "70/70 [==============================] - 0s 3ms/step - loss: 0.0325 - val_loss: 0.0030\n",
      "Epoch 35/100\n",
      "70/70 [==============================] - 0s 3ms/step - loss: 0.0321 - val_loss: 0.0061\n",
      "Epoch 36/100\n",
      "70/70 [==============================] - 0s 3ms/step - loss: 0.0295 - val_loss: 0.0048\n",
      "Epoch 37/100\n",
      "70/70 [==============================] - 0s 3ms/step - loss: 0.0303 - val_loss: 0.0032\n",
      "Epoch 38/100\n",
      "70/70 [==============================] - 0s 3ms/step - loss: 0.0332 - val_loss: 0.0059\n",
      "Epoch 39/100\n",
      "70/70 [==============================] - 0s 3ms/step - loss: 0.0313 - val_loss: 0.0042\n",
      "Epoch 40/100\n",
      "70/70 [==============================] - 0s 3ms/step - loss: 0.0306 - val_loss: 0.0030\n",
      "Epoch 41/100\n",
      "70/70 [==============================] - 0s 3ms/step - loss: 0.0263 - val_loss: 0.0030\n",
      "Epoch 42/100\n",
      "70/70 [==============================] - 0s 3ms/step - loss: 0.0299 - val_loss: 0.0076\n",
      "Epoch 43/100\n",
      "70/70 [==============================] - 0s 3ms/step - loss: 0.0294 - val_loss: 0.0029\n",
      "Epoch 44/100\n",
      "70/70 [==============================] - 0s 3ms/step - loss: 0.0300 - val_loss: 0.0030\n",
      "Epoch 45/100\n",
      "70/70 [==============================] - 0s 3ms/step - loss: 0.0319 - val_loss: 0.0040\n",
      "Epoch 46/100\n",
      "70/70 [==============================] - 0s 3ms/step - loss: 0.0316 - val_loss: 0.0031\n",
      "Epoch 47/100\n",
      "70/70 [==============================] - 0s 3ms/step - loss: 0.0313 - val_loss: 0.0049\n",
      "Epoch 48/100\n",
      "70/70 [==============================] - 0s 3ms/step - loss: 0.0320 - val_loss: 0.0031\n",
      "Epoch 49/100\n",
      "70/70 [==============================] - 0s 3ms/step - loss: 0.0307 - val_loss: 0.0039\n",
      "Epoch 50/100\n",
      "70/70 [==============================] - 0s 3ms/step - loss: 0.0337 - val_loss: 0.0034\n",
      "Epoch 51/100\n",
      "70/70 [==============================] - 0s 3ms/step - loss: 0.0319 - val_loss: 0.0030\n",
      "Epoch 52/100\n",
      "70/70 [==============================] - 0s 3ms/step - loss: 0.0312 - val_loss: 0.0033\n",
      "Epoch 53/100\n",
      "70/70 [==============================] - 0s 3ms/step - loss: 0.0282 - val_loss: 0.0034\n",
      "Epoch 54/100\n",
      "70/70 [==============================] - 0s 3ms/step - loss: 0.0300 - val_loss: 0.0042\n",
      "Epoch 55/100\n",
      "70/70 [==============================] - 0s 3ms/step - loss: 0.0320 - val_loss: 0.0033\n",
      "Epoch 56/100\n",
      "70/70 [==============================] - 0s 3ms/step - loss: 0.0281 - val_loss: 0.0045\n",
      "Epoch 57/100\n",
      "70/70 [==============================] - 0s 3ms/step - loss: 0.0311 - val_loss: 0.0032\n",
      "Epoch 58/100\n",
      "70/70 [==============================] - 0s 3ms/step - loss: 0.0311 - val_loss: 0.0046\n",
      "Epoch 59/100\n",
      "70/70 [==============================] - 0s 3ms/step - loss: 0.0302 - val_loss: 0.0034\n",
      "Epoch 60/100\n",
      "70/70 [==============================] - 0s 3ms/step - loss: 0.0335 - val_loss: 0.0038\n",
      "Epoch 61/100\n",
      "70/70 [==============================] - 0s 3ms/step - loss: 0.0330 - val_loss: 0.0070\n",
      "Epoch 62/100\n",
      "70/70 [==============================] - 0s 3ms/step - loss: 0.0316 - val_loss: 0.0033\n",
      "Epoch 63/100\n",
      "70/70 [==============================] - 0s 3ms/step - loss: 0.0308 - val_loss: 0.0078\n",
      "Epoch 64/100\n",
      "70/70 [==============================] - 0s 3ms/step - loss: 0.0314 - val_loss: 0.0037\n",
      "Epoch 65/100\n",
      "70/70 [==============================] - 0s 3ms/step - loss: 0.0325 - val_loss: 0.0048\n",
      "Epoch 66/100\n",
      "70/70 [==============================] - 0s 3ms/step - loss: 0.0288 - val_loss: 0.0030\n",
      "Epoch 67/100\n",
      "70/70 [==============================] - 0s 3ms/step - loss: 0.0300 - val_loss: 0.0033\n",
      "Epoch 68/100\n",
      "70/70 [==============================] - 0s 3ms/step - loss: 0.0288 - val_loss: 0.0046\n",
      "Epoch 69/100\n",
      "70/70 [==============================] - 0s 3ms/step - loss: 0.0321 - val_loss: 0.0047\n",
      "Epoch 70/100\n",
      "70/70 [==============================] - 0s 3ms/step - loss: 0.0284 - val_loss: 0.0030\n",
      "Epoch 71/100\n",
      "70/70 [==============================] - 0s 3ms/step - loss: 0.0312 - val_loss: 0.0066\n",
      "Epoch 72/100\n",
      "70/70 [==============================] - 0s 3ms/step - loss: 0.0301 - val_loss: 0.0030\n",
      "Epoch 73/100\n",
      "70/70 [==============================] - 0s 3ms/step - loss: 0.0311 - val_loss: 0.0032\n",
      "Epoch 74/100\n",
      "70/70 [==============================] - 0s 3ms/step - loss: 0.0286 - val_loss: 0.0034\n",
      "Epoch 75/100\n",
      "70/70 [==============================] - 0s 3ms/step - loss: 0.0278 - val_loss: 0.0030\n",
      "Epoch 76/100\n",
      "70/70 [==============================] - 0s 3ms/step - loss: 0.0313 - val_loss: 0.0076\n",
      "Epoch 77/100\n",
      "70/70 [==============================] - 0s 3ms/step - loss: 0.0319 - val_loss: 0.0034\n",
      "Epoch 78/100\n",
      "70/70 [==============================] - 0s 3ms/step - loss: 0.0311 - val_loss: 0.0037\n",
      "Epoch 79/100\n",
      "70/70 [==============================] - 0s 3ms/step - loss: 0.0308 - val_loss: 0.0063\n",
      "Epoch 80/100\n",
      "70/70 [==============================] - 0s 3ms/step - loss: 0.0296 - val_loss: 0.0031\n",
      "Epoch 81/100\n",
      "70/70 [==============================] - 0s 3ms/step - loss: 0.0317 - val_loss: 0.0032\n",
      "Epoch 82/100\n",
      "70/70 [==============================] - 0s 3ms/step - loss: 0.0263 - val_loss: 0.0048\n",
      "Epoch 83/100\n",
      "70/70 [==============================] - 0s 3ms/step - loss: 0.0315 - val_loss: 0.0036\n",
      "Epoch 84/100\n",
      "70/70 [==============================] - 0s 3ms/step - loss: 0.0275 - val_loss: 0.0029\n",
      "Epoch 85/100\n",
      "70/70 [==============================] - 0s 3ms/step - loss: 0.0326 - val_loss: 0.0032\n",
      "Epoch 86/100\n",
      "70/70 [==============================] - 0s 3ms/step - loss: 0.0295 - val_loss: 0.0030\n",
      "Epoch 87/100\n",
      "70/70 [==============================] - 0s 3ms/step - loss: 0.0315 - val_loss: 0.0031\n",
      "Epoch 88/100\n",
      "70/70 [==============================] - 0s 3ms/step - loss: 0.0308 - val_loss: 0.0030\n",
      "Epoch 89/100\n",
      "70/70 [==============================] - 0s 3ms/step - loss: 0.0293 - val_loss: 0.0048\n",
      "Epoch 90/100\n",
      "70/70 [==============================] - 0s 3ms/step - loss: 0.0321 - val_loss: 0.0030\n",
      "Epoch 91/100\n",
      "70/70 [==============================] - 0s 3ms/step - loss: 0.0316 - val_loss: 0.0033\n",
      "Epoch 92/100\n",
      "70/70 [==============================] - 0s 3ms/step - loss: 0.0322 - val_loss: 0.0033\n",
      "Epoch 93/100\n",
      "70/70 [==============================] - 0s 3ms/step - loss: 0.0304 - val_loss: 0.0031\n",
      "Epoch 94/100\n",
      "70/70 [==============================] - 0s 3ms/step - loss: 0.0314 - val_loss: 0.0037\n",
      "Epoch 95/100\n",
      "70/70 [==============================] - 0s 3ms/step - loss: 0.0315 - val_loss: 0.0034\n",
      "Epoch 96/100\n",
      "70/70 [==============================] - 0s 3ms/step - loss: 0.0290 - val_loss: 0.0030\n",
      "Epoch 97/100\n",
      "70/70 [==============================] - 0s 3ms/step - loss: 0.0296 - val_loss: 0.0034\n",
      "Epoch 98/100\n",
      "70/70 [==============================] - 0s 3ms/step - loss: 0.0287 - val_loss: 0.0049\n",
      "Epoch 99/100\n",
      "70/70 [==============================] - 0s 3ms/step - loss: 0.0285 - val_loss: 0.0054\n",
      "Epoch 100/100\n",
      "70/70 [==============================] - 0s 3ms/step - loss: 0.0319 - val_loss: 0.0033\n"
     ]
    },
    {
     "data": {
      "text/plain": [
       "<matplotlib.legend.Legend at 0x310937b10>"
      ]
     },
     "execution_count": 15,
     "metadata": {},
     "output_type": "execute_result"
    },
    {
     "data": {
      "image/png": "[encoded data removed]",
      "text/plain": [
       "<Figure size 640x480 with 1 Axes>"
      ]
     },
     "metadata": {},
     "output_type": "display_data"
    }
   ],
   "source": [
    "# fit the model\n",
    "history = model.fit(trainX, trainY, epochs=100, batch_size=16, validation_split=0.1, verbose=1)\n",
    "\n",
    "plt.plot(history.history['loss'], label='Training loss')\n",
    "plt.plot(history.history['val_loss'], label='Validation loss')\n",
    "plt.legend()"
   ]
  },
  {
   "cell_type": "code",
   "execution_count": 16,
   "metadata": {},
   "outputs": [
    {
     "name": "stdout",
     "output_type": "stream",
     "text": [
      "3/3 [==============================] - 0s 2ms/step\n"
     ]
    },
    {
     "name": "stderr",
     "output_type": "stream",
     "text": [
      "/var/folders/bx/s_yjy4jn1536vj6cptf3nsr40000gn/T/ipykernel_4680/4018031034.py:26: SettingWithCopyWarning: \n",
      "A value is trying to be set on a copy of a slice from a DataFrame.\n",
      "Try using .loc[row_indexer,col_indexer] = value instead\n",
      "\n",
      "See the caveats in the documentation: https://pandas.pydata.org/pandas-docs/stable/user_guide/indexing.html#returning-a-view-versus-a-copy\n",
      "  original['Date']=pd.to_datetime(original['Date'])\n"
     ]
    }
   ],
   "source": [
    "from pandas.tseries.holiday import USFederalHolidayCalendar\n",
    "from pandas.tseries.offsets import CustomBusinessDay\n",
    "us_bd = CustomBusinessDay(calendar=USFederalHolidayCalendar())\n",
    "\n",
    "n_past = 90\n",
    "n_days_for_prediction=90  #let us predict past 15 days\n",
    "\n",
    "predict_period_dates = pd.date_range(list(train_set_dates)[-n_past], periods=n_days_for_prediction, freq=us_bd).tolist() # instead of us_bd we can give '1d' etc.\n",
    "\n",
    "#Make prediction\n",
    "prediction = model.predict(trainX[-n_days_for_prediction:]) #shape = (n, 1) where n is the n_days_for_prediction\n",
    "\n",
    "# predict the future price\n",
    "prediction_copies = np.repeat(prediction, df_train.shape[1], axis=-1)\n",
    "y_pred_future = scalar.inverse_transform(prediction_copies)[:,0]\n",
    "\n",
    "# Convert timestamp to date\n",
    "forecast_dates = []\n",
    "for time_i in predict_period_dates:\n",
    "    forecast_dates.append(time_i.date())\n",
    "\n",
    "df_forecast = pd.DataFrame({'Date':np.array(forecast_dates), 'Open':y_pred_future})\n",
    "df_forecast['Date']=pd.to_datetime(df_forecast['Date'])\n",
    "\n",
    "original = df[['Date', 'Open']]\n",
    "original['Date']=pd.to_datetime(original['Date'])\n",
    "original = original.loc[original['Date'] >= '2022-1-1'] # selecting the data only from 2022 just for our convinence"
   ]
  },
  {
   "cell_type": "code",
   "execution_count": 17,
   "metadata": {},
   "outputs": [
    {
     "data": {
      "image/png": "[encoded data removed]",
      "text/plain": [
       "<Figure size 1200x400 with 1 Axes>"
      ]
     },
     "metadata": {},
     "output_type": "display_data"
    }
   ],
   "source": [
    "plt.figure(figsize=(12,4))\n",
    "sns.lineplot(data=df_forecast, x='Date', y='Open', )\n",
    "sns.lineplot(data=original, x='Date', y='Open')\n",
    "plt.show()"
   ]
  },
  {
   "cell_type": "markdown",
   "metadata": {},
   "source": [
    "# Conclusion:\n",
    "\n",
    "In summary, multivariate time series analysis using LSTM and GRU models is a powerful approach for modeling and predicting complex temporal relationships in data. These deep learning models excel at capturing long-term dependencies and can leverage multiple variables to improve prediction accuracy. By incorporating interactions and relationships between variables, they provide comprehensive and accurate forecasting. However, success relies on proper data preprocessing, feature selection, and model tuning, along with sufficient data and appropriate hyperparameter selection. Overall, multivariate time series analysis with LSTM and GRU models offers a valuable framework for forecasting and understanding complex temporal relationships in various domains."
   ]
  },
  {
   "cell_type": "markdown",
   "metadata": {},
   "source": [
    "This notebook is taken from [Medium.com](https://medium.com/aimonks/multivariate-timeseries-analysis-using-tensorflow-9554e607077a)"
   ]
  }
 ],
 "metadata": {
  "kernelspec": {
   "display_name": "Python 3",
   "language": "python",
   "name": "python3"
  },
  "language_info": {
   "codemirror_mode": {
    "name": "ipython",
    "version": 3
   },
   "file_extension": ".py",
   "mimetype": "text/x-python",
   "name": "python",
   "nbconvert_exporter": "python",
   "pygments_lexer": "ipython3",
   "version": "3.11.0"
  }
 },
 "nbformat": 4,
 "nbformat_minor": 2
}
